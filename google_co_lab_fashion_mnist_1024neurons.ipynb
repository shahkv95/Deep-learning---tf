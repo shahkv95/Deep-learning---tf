import tensorflow as tf\n",
        "print(tf.__version__)\n",
        "\n",
        "mnist = tf.keras.datasets.mnist\n",
        "\n",
        "(training_images, training_labels) ,  (test_images, test_labels) = mnist.load_data()\n",
        "\n",
        "training_images = training_images/255.0\n",
        "test_images = test_images/255.0\n",
        "\n",
        "model = tf.keras.models.Sequential([tf.keras.layers.Flatten(),\n",
        "                                    tf.keras.layers.Dense(1024, activation=tf.nn.relu),\n",
        "                                    tf.keras.layers.Dense(10, activation=tf.nn.softmax)])\n",
        "\n",
        "model.compile(optimizer = 'adam',\n",
        "              loss = 'sparse_categorical_crossentropy')\n",
        "\n",
        "model.fit(training_images, training_labels, epochs=5)\n",
        "\n",
        "model.evaluate(test_images, test_labels)\n",
        "\n",
        "classifications = model.predict(test_images)\n",
        "\n",
        "print(classifications[0])\n",
        "print(test_labels[0])"
      ],
      "execution_count": 1,
      "outputs": [
        {
          "output_type": "stream",
          "text": [
            "1.13.1\n",
            "Downloading data from https://storage.googleapis.com/tensorflow/tf-keras-datasets/mnist.npz\n",
            "11493376/11490434 [==============================] - 0s 0us/step\n",
            "WARNING:tensorflow:From /usr/local/lib/python3.6/dist-packages/tensorflow/python/ops/resource_variable_ops.py:435: colocate_with (from tensorflow.python.framework.ops) is deprecated and will be removed in a future version.\n",
            "Instructions for updating:\n",
            "Colocations handled automatically by placer.\n",
            "Epoch 1/5\n",
            "60000/60000 [==============================] - 20s 329us/sample - loss: 0.1873\n",
            "Epoch 2/5\n",
            "60000/60000 [==============================] - 20s 325us/sample - loss: 0.0738\n",
            "Epoch 3/5\n",
            "60000/60000 [==============================] - 19s 324us/sample - loss: 0.0488\n",
            "Epoch 4/5\n",
            "60000/60000 [==============================] - 19s 318us/sample - loss: 0.0372\n",
            "Epoch 5/5\n",
            "60000/60000 [==============================] - 19s 322us/sample - loss: 0.0250\n",
            "10000/10000 [==============================] - 1s 77us/sample - loss: 0.0587\n",
            "[1.7837565e-12 1.2387352e-10 8.4849405e-10 1.1308060e-07 3.7944321e-14\n",
            " 2.4348648e-10 4.8663309e-15 9.9999988e-01 6.1656680e-11 5.2759845e-09]\n",
            "7\n"
          ],
          "name": "stdout"
        }
      ]
    }
  ]
}
