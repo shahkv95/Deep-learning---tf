
        import tensorflow as tf
        mnist = tf.keras.datasets.fashion_mnist
        (training_images, training_labels), (test_images, test_labels) = mnist.load_data()
        training_images=training_images / 255.0
        test_images=test_images / 255.0
        model = tf.keras.models.Sequential([
          tf.keras.layers.Flatten(),
          tf.keras.layers.Dense(128, activation=tf.nn.relu),
         tf.keras.layers.Dense(10, activation=tf.nn.softmax)
        ])
        model.compile(optimizer='adam', loss='sparse_categorical_crossentropy', metrics=['accuracy'])
        model.fit(training_images, training_labels, epochs=5)
        
        test_loss = model.evaluate(test_images, test_labels)
      
     
            Epoch 1/5
            60000/60000 [==============================] - 9s 145us/sample - loss: 0.4926 - acc: 0.8285
            Epoch 2/5\n",
            60000/60000 [==============================] - 8s 140us/sample - loss: 0.3767 - acc: 0.8645
            Epoch 3/5\n",
            60000/60000 [==============================] - 9s 143us/sample - loss: 0.3400 - acc: 0.8744
            Epoch 4/5\n",
            60000/60000 [==============================] - 8s 139us/sample - loss: 0.3134 - acc: 0.8852
            Epoch 5/5\n",
            60000/60000 [==============================] - 8s 138us/sample - loss: 0.2958 - acc: 0.8901
            10000/10000 [==============================] - 0s 47us/sample - loss: 0.3567 - acc: 0.8694
          
          
        Your accuracy is probably about 89% on training and 87% on validation...not bad...But how do you make that even better? One way is to use something called Convolutions. I'm not going to details on Convolutions here, but the ultimate concept is that they narrow down the content of the image to focus on specific, distinct, details. \n",
        
        If you've ever done image processing using a filter (like this: https://en.wikipedia.org/wiki/Kernel_(image_processing)) then convolutions will look very familiar.\n",
        
        In short, you take an array (usually 3x3 or 5x5) and pass it over the image. By changing the underlying pixels based on the formula within that matrix, you can do things like edge detection. So, for example, if you look at the above link, you'll see a 3x3 that is defined for edge detection where the middle cell is 8, and all of its neighbors are -1. In this case, for each pixel, you would multiply its value by 8, then subtract the value of each neighbor. Do this for every pixel, and you'll end up with a new image that has the edges enhanced.\n",
        
        This is perfect for computer vision, because often it's features that can get highlighted like this that distinguish one item for another, and the amount of information needed is then much less...because you'll just train on the highlighted features.\n",
        
        That's the concept of Convolutional Neural Networks. Add some layers to do convolution before you have the dense layers, and then the information going to the dense layers is more focussed, and possibly more accurate.\n",
        
        Run the below code -- this is the same neural network as earlier, but this time with Convolutional layers added first. It will take longer, but look at the impact on the accuracy:"
     
        import tensorflow as tf
        print(tf.__version__)
        mnist = tf.keras.datasets.fashion_mnist
        (training_images, training_labels), (test_images, test_labels) = mnist.load_data()
        training_images=training_images.reshape(60000, 28, 28, 1)
        training_images=training_images / 255.0
        test_images = test_images.reshape(10000, 28, 28, 1)
        test_images=test_images/255.0
        model = tf.keras.models.Sequential([
          tf.keras.layers.Conv2D(64, (3,3), activation='relu', input_shape=(28, 28, 1)),
          tf.keras.layers.MaxPooling2D(2, 2),
          tf.keras.layers.Conv2D(64, (3,3), activation='relu'),
          tf.keras.layers.MaxPooling2D(2,2),
          tf.keras.layers.Flatten(),
          tf.keras.layers.Dense(128, activation='relu'),
          tf.keras.layers.Dense(10, activation='softmax')
        
        model.compile(optimizer='adam', loss='sparse_categorical_crossentropy', metrics=['accuracy'])
        model.summary()
        model.fit(training_images, training_labels, epochs=5)
        test_loss = model.evaluate(test_images, test_labels)
     
      
            Downloading data from https://storage.googleapis.com/tensorflow/tf-keras-datasets/train-labels-idx1-ubyte.gz\n",
            32768/29515 [=================================] - 0s 0us/step\n",
            Downloading data from https://storage.googleapis.com/tensorflow/tf-keras-datasets/train-images-idx3-ubyte.gz\n",
            26427392/26421880 [==============================] - 0s 0us/step\n",
            Downloading data from https://storage.googleapis.com/tensorflow/tf-keras-datasets/t10k-labels-idx1-ubyte.gz\n",
            8192/5148 [===============================================] - 0s 0us/step\n",
            Downloading data from https://storage.googleapis.com/tensorflow/tf-keras-datasets/t10k-images-idx3-ubyte.gz\n",
            4423680/4422102 [==============================] - 0s 0us/step\n",
            WARNING:tensorflow:From /usr/local/lib/python3.6/dist-packages/tensorflow/python/ops/resource_variable_ops.py:435: colocate_with (from tensorflow.python.framework.ops) is deprecated and will be removed in a future version.\n",
            Instructions for updating:\n",
            Colocations handled automatically by placer.\n",
            _________________________________________________________________\n",
            Layer (type)                 Output Shape              Param #   \n",
            =================================================================\n",
            conv2d (Conv2D)              (None, 26, 26, 64)        640       \n",
            _________________________________________________________________\n",
            max_pooling2d (MaxPooling2D) (None, 13, 13, 64)        0         \n",
            _________________________________________________________________\n",
            conv2d_1 (Conv2D)            (None, 11, 11, 64)        36928     \n",
            _________________________________________________________________\n",
            max_pooling2d_1 (MaxPooling2 (None, 5, 5, 64)          0         \n",
            _________________________________________________________________\n",
            flatten (Flatten)            (None, 1600)              0         \n",
            _________________________________________________________________\n",
            dense (Dense)                (None, 128)               204928    \n",
            _________________________________________________________________\n",
            dense_1 (Dense)              (None, 10)                1290      \n",
            =================================================================\n",
            Total params: 243,786\n",
            Trainable params: 243,786\n",
            Non-trainable params: 0\n",
            _________________________________________________________________\n",
            Epoch 1/5\n",
            60000/60000 [==============================] - 111s 2ms/sample - loss: 0.4387 - acc: 0.8388\n",
            Epoch 2/5\n",
            60000/60000 [==============================] - 110s 2ms/sample - loss: 0.2933 - acc: 0.8916\n",
            Epoch 3/5\n",
            60000/60000 [==============================] - 109s 2ms/sample - loss: 0.2466 - acc: 0.9085\n",
            Epoch 4/5\n",
            60000/60000 [==============================] - 109s 2ms/sample - loss: 0.2163 - acc: 0.9190\n",
            Epoch 5/5\n",
            60000/60000 [==============================] - 109s 2ms/sample - loss: 0.1912 - acc: 0.9282\n",
            10000/10000 [==============================] - 5s 513us/sample - loss: 0.2602 - acc: 0.9065\n"
          
        It's likely gone up to about 93% on the training data and 91% on the validation data. \n",
        
        That's significant, and a step in the right direction!\n",
        
        Try running it for more epochs -- say about 20, and explore the results! But while the results might seem really good, the validation results may actually go down, due to something called 'overfitting' which will be discussed later. \n",
        
        (In a nutshell, 'overfitting' occurs when the network learns the data from the training set really well, but it's too specialised to only that data, and as a result is less effective at seeing *other* data. For example, if all your life you only saw red shoes, then when you see a red shoe you would be very good at identifying it, but blue suade shoes might confuse you...and you know you should never mess with my blue suede shoes.)\n",
        
        Then, look at the code again, and see, step by step how the Convolutions were built:"
      
   
        Step 1 is to gather the data. You'll notice that there's a bit of a change here in that the training data needed to be reshaped. That's because the first convolution expects a single tensor containing everything, so instead of 60,000 28x28x1 items in a list, we have a single 4D list that is 60,000x28x28x1, and the same for the test images. If you don't do this, you'll get an error when training as the Convolutions do not recognize the shape. \n",
        
        import tensorflow as tf\n",
        mnist = tf.keras.datasets.fashion_mnist\n",
        (training_images, training_labels), (test_images, test_labels) = mnist.load_data()\n",
        training_images=training_images.reshape(60000, 28, 28, 1)\n",
        training_images=training_images / 255.0\n",
        test_images = test_images.reshape(10000, 28, 28, 1)\n",
        test_images=test_images/255.0\n",
        
        Next is to define your model. Now instead of the input layer at the top, you're going to add a Convolution. The parameters are:\n",
        
        1. The number of convolutions you want to generate. Purely arbitrary, but good to start with something in the order of 32\n",
        2. The size of the Convolution, in this case a 3x3 grid\n",
        3. The activation function to use -- in this case we'll use relu, which you might recall is the equivalent of returning x when x>0, else returning 0\n",
        4. In the first layer, the shape of the input data.\n",
        
        You'll follow the Convolution with a MaxPooling layer which is then designed to compress the image, while maintaining the content of the features that were highlighted by the convlution. By specifying (2,2) for the MaxPooling, the effect is to quarter the size of the image. Without going into too much detail here, the idea is that it creates a 2x2 array of pixels, and picks the biggest one, thus turning 4 pixels into 1. It repeats this across the image, and in so doing halves the number of horizontal, and halves the number of vertical pixels, effectively reducing the image by 25%.\n",
        
        You can call model.summary() to see the size and shape of the network, and you'll notice that after every MaxPooling layer, the image size is reduced in this way. \n",
        
        model = tf.keras.models.Sequential([\n",
          tf.keras.layers.Conv2D(32, (3,3), activation='relu', input_shape=(28, 28, 1)),\n",
          tf.keras.layers.MaxPooling2D(2, 2),\n",
        
        "Add another convolution\n",
        
          tf.keras.layers.Conv2D(64, (3,3), activation='relu'),\n",
          tf.keras.layers.MaxPooling2D(2,2)\n",
        
        "Now flatten the output. After this you'll just have the same DNN structure as the non convolutional version\n",
        
        "  tf.keras.layers.Flatten(),\n",
        
        "The same 128 dense layers, and 10 output layers as in the pre-convolution example:\n",
       
          tf.keras.layers.Dense(128, activation='relu'),\n",
          tf.keras.layers.Dense(10, activation='softmax')\n",
        
        "Now compile the model, call the fit method to do the training, and evaluate the loss and accuracy from the test set.\n",
        
        model.compile(optimizer='adam', loss='sparse_categorical_crossentropy', metrics=['accuracy'])\n",
        model.fit(training_images, training_labels, epochs=5)\n",
        test_loss, test_acc = model.evaluate(test_images, test_labels)\n",
        print(test_acc)\n",
       
      
        "# Visualizing the Convolutions and Pooling\n",
        
        "This code will show us the convolutions graphically. The print (test_labels[;100]) shows us the first 100 labels in the test set, and you can see that the ones at index 0, index 23 and index 28 are all the same value (9). They're all shoes. Let's take a look at the result of running the convolution on each, and you'll begin to see common features between them emerge. Now, when the DNN is training on that data, it's working with a lot less, and it's perhaps finding a commonality between shoes based on this convolution/pooling combination."
     
            "[9 2 1 1 6 1 4 6 5 7 4 5 7 3 4 1 2 4 8 0 2 5 7 9 1 4 6 0 9 3 8 8 3 3 8 0 7\n",
            " 5 7 9 6 1 3 7 6 7 2 1 2 2 4 4 5 8 2 2 8 4 8 0 7 7 8 5 1 1 2 3 9 8 7 0 2 6\n",
            " 2 3 1 2 8 4 1 8 5 9 5 0 3 2 0 6 5 3 6 7 1 8 0 1 4 2]\n"
         
        "import matplotlib.pyplot as plt\n",
        "f, axarr = plt.subplots(3,4)\n",
        "FIRST_IMAGE=0\n",
        "SECOND_IMAGE=7\n",
        "THIRD_IMAGE=26\n",
        "CONVOLUTION_NUMBER = 1\n",
        "from tensorflow.keras import models\n",
        "layer_outputs = [layer.output for layer in model.layers]\n",
        "activation_model = tf.keras.models.Model(inputs = model.input, outputs = layer_outputs)\n",
        "for x in range(0,4):\n",
        "  f1 = activation_model.predict(test_images[FIRST_IMAGE].reshape(1, 28, 28, 1))[x]\n",
        "  axarr[0,x].imshow(f1[0, : , :, CONVOLUTION_NUMBER], cmap='inferno')\n",
        "  axarr[0,x].grid(False)\n",
        "  f2 = activation_model.predict(test_images[SECOND_IMAGE].reshape(1, 28, 28, 1))[x]\n",
        "  axarr[1,x].imshow(f2[0, : , :, CONVOLUTION_NUMBER], cmap='inferno')\n",
        "  axarr[1,x].grid(False)\n",
        "  f3 = activation_model.predict(test_images[THIRD_IMAGE].reshape(1, 28, 28, 1))[x]\n",
        "  axarr[2,x].imshow(f3[0, : , :, CONVOLUTION_NUMBER], cmap='inferno')\n",
        "  axarr[2,x].grid(False)"
      ],
      "execution_count": 0,
      "outputs": [
        {
          "output_type": "error",
          "ename": "AttributeError",
          "evalue": "ignored",
          "traceback": [
            "\u001b[0;31m---------------------------------------------------------------------------\u001b[0m",
            "\u001b[0;31mAttributeError\u001b[0m                            Traceback (most recent call last)",
            "\u001b[0;32m<ipython-input-4-85a0b049b91e>\u001b[0m in \u001b[0;36m<module>\u001b[0;34m()\u001b[0m\n\u001b[1;32m      6\u001b[0m \u001b[0mCONVOLUTION_NUMBER\u001b[0m \u001b[0;34m=\u001b[0m \u001b[0;36m1\u001b[0m\u001b[0;34m\u001b[0m\u001b[0;34m\u001b[0m\u001b[0m\n\u001b[1;32m      7\u001b[0m \u001b[0;32mfrom\u001b[0m \u001b[0mtensorflow\u001b[0m\u001b[0;34m.\u001b[0m\u001b[0mkeras\u001b[0m \u001b[0;32mimport\u001b[0m \u001b[0mmodels\u001b[0m\u001b[0;34m\u001b[0m\u001b[0;34m\u001b[0m\u001b[0m\n\u001b[0;32m----> 8\u001b[0;31m \u001b[0mlayer_outputs\u001b[0m \u001b[0;34m=\u001b[0m \u001b[0;34m[\u001b[0m\u001b[0mlayer\u001b[0m\u001b[0;34m.\u001b[0m\u001b[0moutput\u001b[0m \u001b[0;32mfor\u001b[0m \u001b[0mlayer\u001b[0m \u001b[0;32min\u001b[0m \u001b[0mmodel\u001b[0m\u001b[0;34m.\u001b[0m\u001b[0mlayers\u001b[0m\u001b[0;34m]\u001b[0m\u001b[0;34m\u001b[0m\u001b[0;34m\u001b[0m\u001b[0m\n\u001b[0m\u001b[1;32m      9\u001b[0m \u001b[0mactivation_model\u001b[0m \u001b[0;34m=\u001b[0m \u001b[0mtf\u001b[0m\u001b[0;34m.\u001b[0m\u001b[0mkeras\u001b[0m\u001b[0;34m.\u001b[0m\u001b[0mmodels\u001b[0m\u001b[0;34m.\u001b[0m\u001b[0mModel\u001b[0m\u001b[0;34m(\u001b[0m\u001b[0minputs\u001b[0m \u001b[0;34m=\u001b[0m \u001b[0mmodel\u001b[0m\u001b[0;34m.\u001b[0m\u001b[0minput\u001b[0m\u001b[0;34m,\u001b[0m \u001b[0moutputs\u001b[0m \u001b[0;34m=\u001b[0m \u001b[0mlayer_outputs\u001b[0m\u001b[0;34m)\u001b[0m\u001b[0;34m\u001b[0m\u001b[0;34m\u001b[0m\u001b[0m\n\u001b[1;32m     10\u001b[0m \u001b[0;32mfor\u001b[0m \u001b[0mx\u001b[0m \u001b[0;32min\u001b[0m \u001b[0mrange\u001b[0m\u001b[0;34m(\u001b[0m\u001b[0;36m0\u001b[0m\u001b[0;34m,\u001b[0m\u001b[0;36m4\u001b[0m\u001b[0;34m)\u001b[0m\u001b[0;34m:\u001b[0m\u001b[0;34m\u001b[0m\u001b[0;34m\u001b[0m\u001b[0m\n",
            "\u001b[0;32m<ipython-input-4-85a0b049b91e>\u001b[0m in \u001b[0;36m<listcomp>\u001b[0;34m(.0)\u001b[0m\n\u001b[1;32m      6\u001b[0m \u001b[0mCONVOLUTION_NUMBER\u001b[0m \u001b[0;34m=\u001b[0m \u001b[0;36m1\u001b[0m\u001b[0;34m\u001b[0m\u001b[0;34m\u001b[0m\u001b[0m\n\u001b[1;32m      7\u001b[0m \u001b[0;32mfrom\u001b[0m \u001b[0mtensorflow\u001b[0m\u001b[0;34m.\u001b[0m\u001b[0mkeras\u001b[0m \u001b[0;32mimport\u001b[0m \u001b[0mmodels\u001b[0m\u001b[0;34m\u001b[0m\u001b[0;34m\u001b[0m\u001b[0m\n\u001b[0;32m----> 8\u001b[0;31m \u001b[0mlayer_outputs\u001b[0m \u001b[0;34m=\u001b[0m \u001b[0;34m[\u001b[0m\u001b[0mlayer\u001b[0m\u001b[0;34m.\u001b[0m\u001b[0moutput\u001b[0m \u001b[0;32mfor\u001b[0m \u001b[0mlayer\u001b[0m \u001b[0;32min\u001b[0m \u001b[0mmodel\u001b[0m\u001b[0;34m.\u001b[0m\u001b[0mlayers\u001b[0m\u001b[0;34m]\u001b[0m\u001b[0;34m\u001b[0m\u001b[0;34m\u001b[0m\u001b[0m\n\u001b[0m\u001b[1;32m      9\u001b[0m \u001b[0mactivation_model\u001b[0m \u001b[0;34m=\u001b[0m \u001b[0mtf\u001b[0m\u001b[0;34m.\u001b[0m\u001b[0mkeras\u001b[0m\u001b[0;34m.\u001b[0m\u001b[0mmodels\u001b[0m\u001b[0;34m.\u001b[0m\u001b[0mModel\u001b[0m\u001b[0;34m(\u001b[0m\u001b[0minputs\u001b[0m \u001b[0;34m=\u001b[0m \u001b[0mmodel\u001b[0m\u001b[0;34m.\u001b[0m\u001b[0minput\u001b[0m\u001b[0;34m,\u001b[0m \u001b[0moutputs\u001b[0m \u001b[0;34m=\u001b[0m \u001b[0mlayer_outputs\u001b[0m\u001b[0;34m)\u001b[0m\u001b[0;34m\u001b[0m\u001b[0;34m\u001b[0m\u001b[0m\n\u001b[1;32m     10\u001b[0m \u001b[0;32mfor\u001b[0m \u001b[0mx\u001b[0m \u001b[0;32min\u001b[0m \u001b[0mrange\u001b[0m\u001b[0;34m(\u001b[0m\u001b[0;36m0\u001b[0m\u001b[0;34m,\u001b[0m\u001b[0;36m4\u001b[0m\u001b[0;34m)\u001b[0m\u001b[0;34m:\u001b[0m\u001b[0;34m\u001b[0m\u001b[0;34m\u001b[0m\u001b[0m\n",
            "\u001b[0;32m/usr/local/lib/python3.6/dist-packages/tensorflow/python/keras/engine/base_layer.py\u001b[0m in \u001b[0;36moutput\u001b[0;34m(self)\u001b[0m\n\u001b[1;32m   1096\u001b[0m     \"\"\"\n\u001b[1;32m   1097\u001b[0m     \u001b[0;32mif\u001b[0m \u001b[0;32mnot\u001b[0m \u001b[0mself\u001b[0m\u001b[0;34m.\u001b[0m\u001b[0m_inbound_nodes\u001b[0m\u001b[0;34m:\u001b[0m\u001b[0;34m\u001b[0m\u001b[0;34m\u001b[0m\u001b[0m\n\u001b[0;32m-> 1098\u001b[0;31m       \u001b[0;32mraise\u001b[0m \u001b[0mAttributeError\u001b[0m\u001b[0;34m(\u001b[0m\u001b[0;34m'Layer '\u001b[0m \u001b[0;34m+\u001b[0m \u001b[0mself\u001b[0m\u001b[0;34m.\u001b[0m\u001b[0mname\u001b[0m \u001b[0;34m+\u001b[0m \u001b[0;34m' has no inbound nodes.'\u001b[0m\u001b[0;34m)\u001b[0m\u001b[0;34m\u001b[0m\u001b[0;34m\u001b[0m\u001b[0m\n\u001b[0m\u001b[1;32m   1099\u001b[0m     \u001b[0;32mreturn\u001b[0m \u001b[0mself\u001b[0m\u001b[0;34m.\u001b[0m\u001b[0m_get_node_attribute_at_index\u001b[0m\u001b[0;34m(\u001b[0m\u001b[0;36m0\u001b[0m\u001b[0;34m,\u001b[0m \u001b[0;34m'output_tensors'\u001b[0m\u001b[0;34m,\u001b[0m \u001b[0;34m'output'\u001b[0m\u001b[0;34m)\u001b[0m\u001b[0;34m\u001b[0m\u001b[0;34m\u001b[0m\u001b[0m\n\u001b[1;32m   1100\u001b[0m \u001b[0;34m\u001b[0m\u001b[0m\n",
            "\u001b[0;31mAttributeError\u001b[0m: Layer flatten_1 has no inbound nodes."
          ]
        },
        {
          "output_type": "display_data",
          "data": {
            "image/png": "iVBORw0KGgoAAAANSUhEUgAAAe4AAAFOCAYAAABAC/64AAAABHNCSVQICAgIfAhkiAAAAAlwSFlz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\nAAAAAElFTkSuQmCC\n",
            "text/plain": [
              "<Figure size 576x396 with 12 Axes>"
            ]
          },
          "metadata": {
            "tags": []
          }
        }
      ]
    },
    {
      "metadata": {
        "id": "8KVPZqgHo5Ux",
        "colab_type": "text"
      },
      "cell_type": "markdown",
      "source": [
        "EXERCISES\n",
        "\n",
        "1. Try editing the convolutions. Change the 32s to either 16 or 64. What impact will this have on accuracy and/or training time.\n",
        "\n",
        "2. Remove the final Convolution. What impact will this have on accuracy or training time?\n",
        "\n",
        "3. How about adding more Convolutions? What impact do you think this will have? Experiment with it.\n",
        "\n",
        "4. Remove all Convolutions but the first. What impact do you think this will have? Experiment with it. \n",
        "\n",
        "5. In the previous lesson you implemented a callback to check on the loss function and to cancel training once it hit a certain amount. See if you can implement that here!"
      ]
    },
    {
      "metadata": {
        "id": "ZpYRidBXpBPM",
        "colab_type": "code",
        "outputId": "70c1f9f2-880c-4923-9887-8f1d4c6b8383",
        "colab": {
          "height": 415
        }
      },
      "cell_type": "code",
      "source": [
        "import tensorflow as tf\n",
        "print(tf.__version__)\n",
        "mnist = tf.keras.datasets.mnist\n",
        "(training_images, training_labels), (test_images, test_labels) = mnist.load_data()\n",
        "training_images=training_images.reshape(60000, 28, 28, 1)\n",
        "training_images=training_images / 255.0\n",
        "test_images = test_images.reshape(10000, 28, 28, 1)\n",
        "test_images=test_images/255.0\n",
        "model = tf.keras.models.Sequential([\n",
        "  tf.keras.layers.Conv2D(32, (3,3), activation='relu', input_shape=(28, 28, 1)),\n",
        "  tf.keras.layers.MaxPooling2D(2, 2),\n",
        "  tf.keras.layers.Flatten(),\n",
        "  tf.keras.layers.Dense(128, activation='relu'),\n",
        "  tf.keras.layers.Dense(10, activation='softmax')\n",
        "])\n",
        "model.compile(optimizer='adam', loss='sparse_categorical_crossentropy', metrics=['accuracy'])\n",
        "model.fit(training_images, training_labels, epochs=10)\n",
        "test_loss, test_acc = model.evaluate(test_images, test_labels)\n",
        "print(test_acc)"
      ],
      "execution_count": 0,
      "outputs": [
        {
          "output_type": "stream",
          "text": [
            "1.12.0\n",
            "Epoch 1/10\n",
            "60000/60000==============================] - 6s 104us/sample - loss: 0.1510 - acc: 0.9551\n",
            "Epoch 2/10\n",
            "60000/60000==============================] - 5s 79us/sample - loss: 0.0512 - acc: 0.9843\n",
            "Epoch 3/10\n",
            "60000/60000==============================] - 5s 77us/sample - loss: 0.0319 - acc: 0.9902\n",
            "Epoch 4/10\n",
            "60000/60000==============================] - 5s 78us/sample - loss: 0.0209 - acc: 0.9934\n",
            "Epoch 5/10\n",
            "60000/60000==============================] - 5s 78us/sample - loss: 0.0136 - acc: 0.9956\n",
            "Epoch 6/10\n",
            "60000/60000==============================] - 5s 78us/sample - loss: 0.0111 - acc: 0.9964\n",
            "Epoch 7/10\n",
            "60000/60000==============================] - 5s 79us/sample - loss: 0.0076 - acc: 0.9974\n",
            "Epoch 8/10\n",
            "60000/60000==============================] - 5s 78us/sample - loss: 0.0052 - acc: 0.9985\n",
            "Epoch 9/10\n",
            "60000/60000==============================] - 5s 81us/sample - loss: 0.0046 - acc: 0.9988\n",
            "Epoch 10/10\n",
            "60000/60000==============================] - 5s 81us/sample - loss: 0.0053 - acc: 0.9981\n",
            "10000/10000==============================] - 1s 53us/sample - loss: 0.0583 - acc: 0.9873\n",
            "0.9873\n"
          ],
          "name": "stdout"
        }
      ]
    }
  ]
}
