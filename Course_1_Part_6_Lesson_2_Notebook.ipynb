
        import tensorflow as tf
        mnist = tf.keras.datasets.fashion_mnist
        (training_images, training_labels), (test_images, test_labels) = mnist.load_data()
        training_images=training_images / 255.0
        test_images=test_images / 255.0
        model = tf.keras.models.Sequential([
          tf.keras.layers.Flatten(),
          tf.keras.layers.Dense(128, activation=tf.nn.relu),
         tf.keras.layers.Dense(10, activation=tf.nn.softmax)
        ])
        model.compile(optimizer='adam', loss='sparse_categorical_crossentropy', metrics=['accuracy'])
        model.fit(training_images, training_labels, epochs=5)
        
        test_loss = model.evaluate(test_images, test_labels)
      
     
            Epoch 1/5
            60000/60000 [==============================] - 9s 145us/sample - loss: 0.4926 - acc: 0.8285
            Epoch 2/5\n",
            60000/60000 [==============================] - 8s 140us/sample - loss: 0.3767 - acc: 0.8645
            Epoch 3/5\n",
            60000/60000 [==============================] - 9s 143us/sample - loss: 0.3400 - acc: 0.8744
            Epoch 4/5\n",
            60000/60000 [==============================] - 8s 139us/sample - loss: 0.3134 - acc: 0.8852
            Epoch 5/5\n",
            60000/60000 [==============================] - 8s 138us/sample - loss: 0.2958 - acc: 0.8901
            10000/10000 [==============================] - 0s 47us/sample - loss: 0.3567 - acc: 0.8694
          
          
        Your accuracy is probably about 89% on training and 87% on validation...not bad...But how do you make that even better? One way is to use something called Convolutions. I'm not going to details on Convolutions here, but the ultimate concept is that they narrow down the content of the image to focus on specific, distinct, details. 
        
        If you've ever done image processing using a filter (like this: https://en.wikipedia.org/wiki/Kernel_(image_processing)) then convolutions will look very familiar.
        
        In short, you take an array (usually 3x3 or 5x5) and pass it over the image. By changing the underlying pixels based on the formula within that matrix, you can do things like edge detection. So, for example, if you look at the above link, you'll see a 3x3 that is defined for edge detection where the middle cell is 8, and all of its neighbors are -1. In this case, for each pixel, you would multiply its value by 8, then subtract the value of each neighbor. Do this for every pixel, and you'll end up with a new image that has the edges enhanced.
        
        This is perfect for computer vision, because often it's features that can get highlighted like this that distinguish one item for another, and the amount of information needed is then much less...because you'll just train on the highlighted features.
        
        That's the concept of Convolutional Neural Networks. Add some layers to do convolution before you have the dense layers, and then the information going to the dense layers is more focussed, and possibly more accurate.
        
        Run the below code -- this is the same neural network as earlier, but this time with Convolutional layers added first. It will take longer, but look at the impact on the accuracy:
     
        import tensorflow as tf
        print(tf.__version__)
        mnist = tf.keras.datasets.fashion_mnist
        (training_images, training_labels), (test_images, test_labels) = mnist.load_data()
        training_images=training_images.reshape(60000, 28, 28, 1)
        training_images=training_images / 255.0
        test_images = test_images.reshape(10000, 28, 28, 1)
        test_images=test_images/255.0
        model = tf.keras.models.Sequential([
          tf.keras.layers.Conv2D(64, (3,3), activation='relu', input_shape=(28, 28, 1)),
          tf.keras.layers.MaxPooling2D(2, 2),
          tf.keras.layers.Conv2D(64, (3,3), activation='relu'),
          tf.keras.layers.MaxPooling2D(2,2),
          tf.keras.layers.Flatten(),
          tf.keras.layers.Dense(128, activation='relu'),
          tf.keras.layers.Dense(10, activation='softmax')
        
        model.compile(optimizer='adam', loss='sparse_categorical_crossentropy', metrics=['accuracy'])
        model.summary()
        model.fit(training_images, training_labels, epochs=5)
        test_loss = model.evaluate(test_images, test_labels)
     
      
            Downloading data from https://storage.googleapis.com/tensorflow/tf-keras-datasets/train-labels-idx1-ubyte.gz
            32768/29515 [=================================] - 0s 0us/step
            Downloading data from https://storage.googleapis.com/tensorflow/tf-keras-datasets/train-images-idx3-ubyte.gz
            26427392/26421880 [==============================] - 0s 0us/step
            Downloading data from https://storage.googleapis.com/tensorflow/tf-keras-datasets/t10k-labels-idx1-ubyte.gz
            8192/5148 [===============================================] - 0s 0us/step
            Downloading data from https://storage.googleapis.com/tensorflow/tf-keras-datasets/t10k-images-idx3-ubyte.gz
            4423680/4422102 [==============================] - 0s 0us/step
            WARNING:tensorflow:From /usr/local/lib/python3.6/dist-packages/tensorflow/python/ops/resource_variable_ops.py:435: colocate_with (from tensorflow.python.framework.ops) is deprecated and will be removed in a future version.\n",
            Instructions for updating:
            Colocations handled automatically by placer.
            _________________________________________________________________
            Layer (type)                 Output Shape              Param #   
            =================================================================
            conv2d (Conv2D)              (None, 26, 26, 64)        640       
            _________________________________________________________________
            max_pooling2d (MaxPooling2D) (None, 13, 13, 64)        0         
            _________________________________________________________________
            conv2d_1 (Conv2D)            (None, 11, 11, 64)        36928     
            _________________________________________________________________
            max_pooling2d_1 (MaxPooling2 (None, 5, 5, 64)          0         
            _________________________________________________________________
            flatten (Flatten)            (None, 1600)              0         
            _________________________________________________________________
            dense (Dense)                (None, 128)               204928    
            _________________________________________________________________
            dense_1 (Dense)              (None, 10)                1290      
            =================================================================
            Total params: 243,786
            Trainable params: 243,786
            Non-trainable params: 0
            _________________________________________________________________
            Epoch 1/5
            60000/60000 [==============================] - 111s 2ms/sample - loss: 0.4387 - acc: 0.8388
            Epoch 2/5
            60000/60000 [==============================] - 110s 2ms/sample - loss: 0.2933 - acc: 0.8916
            Epoch 3/5
            60000/60000 [==============================] - 109s 2ms/sample - loss: 0.2466 - acc: 0.9085
            Epoch 4/5
            60000/60000 [==============================] - 109s 2ms/sample - loss: 0.2163 - acc: 0.9190
            Epoch 5/5
            60000/60000 [==============================] - 109s 2ms/sample - loss: 0.1912 - acc: 0.9282
            10000/10000 [==============================] - 5s 513us/sample - loss: 0.2602 - acc: 0.9065
          
        It's likely gone up to about 93% on the training data and 91% on the validation data. 
        
        That's significant, and a step in the right direction!
        
        Try running it for more epochs -- say about 20, and explore the results! But while the results might seem really good, the validation results may actually go down, due to something called 'overfitting' which will be discussed later. 
        
        (In a nutshell, 'overfitting' occurs when the network learns the data from the training set really well, but it's too specialised to only that data, and as a result is less effective at seeing *other* data. For example, if all your life you only saw red shoes, then when you see a red shoe you would be very good at identifying it, but blue suade shoes might confuse you...and you know you should never mess with my blue suede shoes.)
        
        Then, look at the code again, and see, step by step how the Convolutions were built:"
      
   
        Step 1 is to gather the data. You'll notice that there's a bit of a change here in that the training data needed to be reshaped. That's because the first convolution expects a single tensor containing everything, so instead of 60,000 28x28x1 items in a list, we have a single 4D list that is 60,000x28x28x1, and the same for the test images. If you don't do this, you'll get an error when training as the Convolutions do not recognize the shape. 
        
        import tensorflow as tf
        mnist = tf.keras.datasets.fashion_mnist
        (training_images, training_labels), (test_images, test_labels) = mnist.load_data()
        training_images=training_images.reshape(60000, 28, 28, 1)
        training_images=training_images / 255.0
        test_images = test_images.reshape(10000, 28, 28, 1)
        test_images=test_images/255.0
        
        Next is to define your model. Now instead of the input layer at the top, you're going to add a Convolution. The parameters are:
        
        1. The number of convolutions you want to generate. Purely arbitrary, but good to start with something in the order of 32
        2. The size of the Convolution, in this case a 3x3 grid
        3. The activation function to use -- in this case we'll use relu, which you might recall is the equivalent of returning x when x>0, else returning 0
        4. In the first layer, the shape of the input data.
        
        You'll follow the Convolution with a MaxPooling layer which is then designed to compress the image, while maintaining the content of the features that were highlighted by the convlution. By specifying (2,2) for the MaxPooling, the effect is to quarter the size of the image. Without going into too much detail here, the idea is that it creates a 2x2 array of pixels, and picks the biggest one, thus turning 4 pixels into 1. It repeats this across the image, and in so doing halves the number of horizontal, and halves the number of vertical pixels, effectively reducing the image by 25%.
        
        You can call model.summary() to see the size and shape of the network, and you'll notice that after every MaxPooling layer, the image size is reduced in this way. 
        
        model = tf.keras.models.Sequential([
          tf.keras.layers.Conv2D(32, (3,3), activation='relu', input_shape=(28, 28, 1)),
          tf.keras.layers.MaxPooling2D(2, 2),
        
        "Add another convolution
        
          tf.keras.layers.Conv2D(64, (3,3), activation='relu'),
          tf.keras.layers.MaxPooling2D(2,2)
        
        "Now flatten the output. After this you'll just have the same DNN structure as the non convolutional version
        
        "  tf.keras.layers.Flatten(),
        
        "The same 128 dense layers, and 10 output layers as in the pre-convolution example:
       
          tf.keras.layers.Dense(128, activation='relu'),
          tf.keras.layers.Dense(10, activation='softmax')
        
        "Now compile the model, call the fit method to do the training, and evaluate the loss and accuracy from the test set.
        
        model.compile(optimizer='adam', loss='sparse_categorical_crossentropy', metrics=['accuracy'])
        model.fit(training_images, training_labels, epochs=5)
        test_loss, test_acc = model.evaluate(test_images, test_labels)
        print(test_acc)
       
      
        # Visualizing the Convolutions and Pooling
        
        This code will show us the convolutions graphically. The print (test_labels[;100]) shows us the first 100 labels in the test set, and you can see that the ones at index 0, index 23 and index 28 are all the same value (9). They're all shoes. Let's take a look at the result of running the convolution on each, and you'll begin to see common features between them emerge. Now, when the DNN is training on that data, it's working with a lot less, and it's perhaps finding a commonality between shoes based on this convolution/pooling combination.
     
            [9 2 1 1 6 1 4 6 5 7 4 5 7 3 4 1 2 4 8 0 2 5 7 9 1 4 6 0 9 3 8 8 3 3 8 0 7
             5 7 9 6 1 3 7 6 7 2 1 2 2 4 4 5 8 2 2 8 4 8 0 7 7 8 5 1 1 2 3 9 8 7 0 2 6
             2 3 1 2 8 4 1 8 5 9 5 0 3 2 0 6 5 3 6 7 1 8 0 1 4 2
         
        import matplotlib.pyplot as plt
        f, axarr = plt.subplots(3,4)
        FIRST_IMAGE=0
        SECOND_IMAGE=7
        THIRD_IMAGE=26
        CONVOLUTION_NUMBER = 1
        from tensorflow.keras import models
        layer_outputs = [layer.output for layer in model.layers]
        activation_model = tf.keras.models.Model(inputs = model.input, outputs = layer_outputs)
        for x in range(0,4):
          f1 = activation_model.predict(test_images[FIRST_IMAGE].reshape(1, 28, 28, 1))[x]
          axarr[0,x].imshow(f1[0, : , :, CONVOLUTION_NUMBER], cmap='inferno')
          axarr[0,x].grid(False)
          f2 = activation_model.predict(test_images[SECOND_IMAGE].reshape(1, 28, 28, 1))[x]
          axarr[1,x].imshow(f2[0, : , :, CONVOLUTION_NUMBER], cmap='inferno')
          axarr[1,x].grid(False)
          f3 = activation_model.predict(test_images[THIRD_IMAGE].reshape(1, 28, 28, 1))[x]
          axarr[2,x].imshow(f3[0, : , :, CONVOLUTION_NUMBER], cmap='inferno')
          axarr[2,x].grid(False)
      
        "EXERCISES\n",
       
        1. Try editing the convolutions. Change the 32s to either 16 or 64. What impact will this have on accuracy and/or training time.
       
        2. Remove the final Convolution. What impact will this have on accuracy or training time?
       
        3. How about adding more Convolutions? What impact do you think this will have? Experiment with it.
        
        4. Remove all Convolutions but the first. What impact do you think this will have? Experiment with it. 
        
        5. In the previous lesson you implemented a callback to check on the loss function and to cancel training once it hit a certain amount. See if you can implement that here!
     
        import tensorflow as tf
        print(tf.__version__)
        mnist = tf.keras.datasets.mnist
        (training_images, training_labels), (test_images, test_labels) = mnist.load_data()
        training_images=training_images.reshape(60000, 28, 28, 1)
        training_images=training_images / 255.0
        test_images = test_images.reshape(10000, 28, 28, 1)
        test_images=test_images/255.0\
        model = tf.keras.models.Sequential([
          tf.keras.layers.Conv2D(32, (3,3), activation='relu', input_shape=(28, 28, 1)),
          tf.keras.layers.MaxPooling2D(2, 2),
          tf.keras.layers.Flatten(),
          tf.keras.layers.Dense(128, activation='relu'),
          tf.keras.layers.Dense(10, activation='softmax'),
        
        model.compile(optimizer='adam', loss='sparse_categorical_crossentropy', metrics=['accuracy'])
        model.fit(training_images, training_labels, epochs=10)
        test_loss, test_acc = model.evaluate(test_images, test_labels)
        print(test_acc)
      
      
            Epoch 1/10
            60000/60000==============================] - 6s 104us/sample - loss: 0.1510 - acc: 0.9551
            Epoch 2/10
            60000/60000==============================] - 5s 79us/sample - loss: 0.0512 - acc: 0.9843
            Epoch 3/10
            60000/60000==============================] - 5s 77us/sample - loss: 0.0319 - acc: 0.9902
            Epoch 4/10
            60000/60000==============================] - 5s 78us/sample - loss: 0.0209 - acc: 0.9934
            Epoch 5/10
            60000/60000==============================] - 5s 78us/sample - loss: 0.0136 - acc: 0.9956,
            Epoch 6/10
            60000/60000==============================] - 5s 78us/sample - loss: 0.0111 - acc: 0.9964
            Epoch 7/10
            60000/60000==============================] - 5s 79us/sample - loss: 0.0076 - acc: 0.9974
            Epoch 8/10
            60000/60000==============================] - 5s 78us/sample - loss: 0.0052 - acc: 0.9985
            Epoch 9/10
            60000/60000==============================] - 5s 81us/sample - loss: 0.0046 - acc: 0.9988
            Epoch 10/10
            60000/60000==============================] - 5s 81us/sample - loss: 0.0053 - acc: 0.9981
            10000/10000==============================] - 1s 53us/sample - loss: 0.0583 - acc: 0.9873
            
